# 3nt
import pandas as pd
import matplotlib.pyplot as plt
import numpy as np

tri = ['a', 'b', 'c']
time = ['0', '4', '8']
